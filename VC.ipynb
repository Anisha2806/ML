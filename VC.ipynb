{
  "nbformat": 4,
  "nbformat_minor": 0,
  "metadata": {
    "colab": {
      "provenance": [],
      "authorship_tag": "ABX9TyP/i78tgl+FH1Rwtt4sIWsQ",
      "include_colab_link": true
    },
    "kernelspec": {
      "name": "python3",
      "display_name": "Python 3"
    },
    "language_info": {
      "name": "python"
    }
  },
  "cells": [
    {
      "cell_type": "markdown",
      "metadata": {
        "id": "view-in-github",
        "colab_type": "text"
      },
      "source": [
        "<a href=\"https://colab.research.google.com/github/Anisha2806/ML/blob/main/VC.ipynb\" target=\"_parent\"><img src=\"https://colab.research.google.com/assets/colab-badge.svg\" alt=\"Open In Colab\"/></a>"
      ]
    },
    {
      "cell_type": "code",
      "execution_count": 1,
      "metadata": {
        "colab": {
          "base_uri": "https://localhost:8080/"
        },
        "id": "ByaYYzM-YYwa",
        "outputId": "7a7c3827-8285-48bd-d526-d8fc1180bd65"
      },
      "outputs": [
        {
          "output_type": "stream",
          "name": "stdout",
          "text": [
            "1\n"
          ]
        }
      ],
      "source": [
        "def calculate_vc(data):\n",
        "  thresholds=sorted(set(data))\n",
        "  num_points=len(data)\n",
        "  max=0\n",
        "\n",
        "  for threshold in thresholds:\n",
        "    numcorrect=sum(1 for x in data if x<=threshold)\n",
        "    if numcorrect==0 or numcorrect==num_points:\n",
        "      break\n",
        "    max+=1\n",
        "    return max\n",
        "\n",
        "data=[0.1,0.3,0.5,0.7,0.9]\n",
        "vc_dimension=calculate_vc(data)\n",
        "print(vc_dimension)"
      ]
    }
  ]
}